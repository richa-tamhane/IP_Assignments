{
  "nbformat": 4,
  "nbformat_minor": 0,
  "metadata": {
    "colab": {
      "provenance": []
    },
    "kernelspec": {
      "name": "python3",
      "display_name": "Python 3"
    },
    "language_info": {
      "name": "python"
    }
  },
  "cells": [
    {
      "cell_type": "code",
      "execution_count": 1,
      "metadata": {
        "id": "eY9ZhgMBIIsb"
      },
      "outputs": [],
      "source": [
        "from PIL import Image\n",
        "import numpy as np"
      ]
    },
    {
      "cell_type": "code",
      "source": [
        "img = Image.open(\"Aeroplane.png\")\n",
        "image_array = np.array(img)"
      ],
      "metadata": {
        "id": "dtBkulcNINoK"
      },
      "execution_count": 2,
      "outputs": []
    },
    {
      "cell_type": "code",
      "source": [
        "print(image_array)"
      ],
      "metadata": {
        "colab": {
          "base_uri": "https://localhost:8080/"
        },
        "id": "V9JvK7RHIZl9",
        "outputId": "6b1ea3c7-cfc4-4fda-bdc0-42ee47cd2b7b"
      },
      "execution_count": 3,
      "outputs": [
        {
          "output_type": "stream",
          "name": "stdout",
          "text": [
            "[[[ 76 115 180]\n",
            "  [ 74 113 178]\n",
            "  [ 74 113 178]\n",
            "  ...\n",
            "  [ 78 116 179]\n",
            "  [ 82 117 181]\n",
            "  [ 84 118 182]]\n",
            "\n",
            " [[ 74 113 178]\n",
            "  [ 74 113 178]\n",
            "  [ 75 114 179]\n",
            "  ...\n",
            "  [ 78 116 179]\n",
            "  [ 82 117 181]\n",
            "  [ 82 116 180]]\n",
            "\n",
            " [[ 75 114 179]\n",
            "  [ 73 112 177]\n",
            "  [ 74 113 178]\n",
            "  ...\n",
            "  [ 80 117 180]\n",
            "  [ 80 115 179]\n",
            "  [ 80 116 179]]\n",
            "\n",
            " ...\n",
            "\n",
            " [[ 72 114 177]\n",
            "  [ 73 116 178]\n",
            "  [ 74 115 179]\n",
            "  ...\n",
            "  [ 79 118 180]\n",
            "  [ 79 120 182]\n",
            "  [ 79 119 181]]\n",
            "\n",
            " [[ 74 115 177]\n",
            "  [ 75 116 178]\n",
            "  [ 73 114 178]\n",
            "  ...\n",
            "  [ 83 120 184]\n",
            "  [ 78 117 180]\n",
            "  [ 78 118 180]]\n",
            "\n",
            " [[ 75 116 178]\n",
            "  [ 74 115 177]\n",
            "  [ 74 115 179]\n",
            "  ...\n",
            "  [ 79 117 180]\n",
            "  [ 78 118 180]\n",
            "  [ 81 121 183]]]\n"
          ]
        }
      ]
    },
    {
      "cell_type": "code",
      "source": [
        "# Function to flip the image horizontally\n",
        "def flip_horizontal(img_array):\n",
        "    return np.flip(img_array, axis=1)\n",
        "\n",
        "# Function to flip the image vertically\n",
        "def flip_vertical(img_array):\n",
        "    return np.flip(img_array, axis=0)\n",
        "\n",
        "# Flip the image horizontally and vertically\n",
        "flipped_horizontal = flip_horizontal(image_array)\n",
        "flipped_vertical = flip_vertical(image_array)\n",
        "\n",
        "# Save the flipped images\n",
        "output_file_horizontal = 'output_horizontal.png'\n",
        "output_file_vertical = 'output_vertical.png'\n",
        "\n",
        "Image.fromarray(flipped_horizontal).save(output_file_horizontal)\n",
        "Image.fromarray(flipped_vertical).save(output_file_vertical)\n",
        "\n"
      ],
      "metadata": {
        "id": "yBN0hXdwIf0R"
      },
      "execution_count": 10,
      "outputs": []
    },
    {
      "cell_type": "code",
      "source": [
        "# View the flipped images\n",
        "Image.fromarray(flipped_horizontal).show(title='Flipped Horizontally')\n",
        "Image.fromarray(flipped_vertical).show(title='Flipped Vertically')"
      ],
      "metadata": {
        "id": "gGVt04uxIq1u"
      },
      "execution_count": 11,
      "outputs": []
    }
  ]
}