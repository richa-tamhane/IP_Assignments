{
  "nbformat": 4,
  "nbformat_minor": 0,
  "metadata": {
    "colab": {
      "provenance": []
    },
    "kernelspec": {
      "name": "python3",
      "display_name": "Python 3"
    },
    "language_info": {
      "name": "python"
    }
  },
  "cells": [
    {
      "cell_type": "code",
      "execution_count": 2,
      "metadata": {
        "colab": {
          "base_uri": "https://localhost:8080/"
        },
        "id": "EEQW2c_TNkG7",
        "outputId": "85d4dba3-fe6d-4fd7-cba4-496c0b2d9c8c"
      },
      "outputs": [
        {
          "output_type": "execute_result",
          "data": {
            "text/plain": [
              "True"
            ]
          },
          "metadata": {},
          "execution_count": 2
        }
      ],
      "source": [
        "import numpy as np\n",
        "import cv2\n",
        "\n",
        "# Define the mean filter function\n",
        "def mean_filter(image, kernel_size):\n",
        "    # Get the dimensions of the image\n",
        "    height, width = image.shape\n",
        "\n",
        "    # Calculate the padding size for the edges\n",
        "    pad_size = kernel_size // 2\n",
        "\n",
        "    # Create a blank image to store the filtered result\n",
        "    filtered_image = np.zeros_like(image)\n",
        "\n",
        "    # Iterate through the image\n",
        "    for i in range(height):\n",
        "        for j in range(width):\n",
        "            # Extract the region of interest\n",
        "            roi = image[max(0, i - pad_size):min(height, i + pad_size + 1),\n",
        "                        max(0, j - pad_size):min(width, j + pad_size + 1)]\n",
        "\n",
        "            # Calculate the mean value of the region\n",
        "            mean_value = np.mean(roi)\n",
        "\n",
        "            # Set the corresponding pixel in the filtered image\n",
        "            filtered_image[i, j] = mean_value\n",
        "\n",
        "    return filtered_image\n",
        "\n",
        "# Load an example image\n",
        "image = cv2.imread('Peppers.png', cv2.IMREAD_GRAYSCALE)\n",
        "\n",
        "# Apply the mean filter with different kernel sizes\n",
        "filtered_image_3x3 = mean_filter(image, 3)\n",
        "filtered_image_5x5 = mean_filter(image, 5)\n",
        "filtered_image_9x9 = mean_filter(image, 9)\n",
        "\n",
        "# Display the filtered images\n",
        "# Specify the file paths for saving the filtered images\n",
        "cv2.imwrite('filtered_image_3x3.jpg', filtered_image_3x3)\n",
        "cv2.imwrite('filtered_image_5x5.jpg', filtered_image_5x5)\n",
        "cv2.imwrite('filtered_image_9x9.jpg', filtered_image_9x9)\n",
        "\n"
      ]
    },
    {
      "cell_type": "code",
      "source": [
        "# Define a function to create a 2D Gaussian kernel\n",
        "def gaussian_kernel(size, sigma):\n",
        "    kernel = np.fromfunction(\n",
        "        lambda x, y: (1/(2*np.pi*sigma**2)) * np.exp(-((x - (size-1)/2)**2 + (y - (size-1)/2)**2) / (2*sigma**2)),\n",
        "        (size, size)\n",
        "    )\n",
        "    return kernel / np.sum(kernel)\n",
        "\n",
        "# Define a function to compute the Laplacian of Gaussian\n",
        "def laplacian_of_gaussian(image, kernel_size, sigma):\n",
        "    # Create the 2D Gaussian kernel\n",
        "    gaussian = gaussian_kernel(kernel_size, sigma)\n",
        "\n",
        "    # Apply convolution to the image with the Gaussian kernel\n",
        "    smoothed = cv2.filter2D(image, -1, gaussian)\n",
        "\n",
        "    # Compute the Laplacian using the Sobel operator\n",
        "    laplacian = cv2.Laplacian(smoothed, cv2.CV_64F)\n",
        "\n",
        "    return laplacian\n",
        "\n",
        "# Load an example image\n",
        "image = cv2.imread('Peppers.png', cv2.IMREAD_GRAYSCALE)\n",
        "\n",
        "# Define the kernel size and sigma for the Gaussian filter\n",
        "kernel_size = 5\n",
        "sigma = 1.0\n",
        "\n",
        "# Apply the Laplacian of Gaussian filter\n",
        "result = laplacian_of_gaussian(image, kernel_size, sigma)\n",
        "\n",
        "# Normalize the result to make it suitable for display\n",
        "result = cv2.normalize(result, None, 0, 255, cv2.NORM_MINMAX, cv2.CV_8U)\n",
        "\n",
        "# Save or display the filtered image\n",
        "cv2.imwrite('laplacian_of_gaussian.png', result)\n",
        "\n"
      ],
      "metadata": {
        "colab": {
          "base_uri": "https://localhost:8080/"
        },
        "id": "fFefBlPmRenY",
        "outputId": "2373bf71-8b99-4a74-f985-eb09df09beff"
      },
      "execution_count": 4,
      "outputs": [
        {
          "output_type": "execute_result",
          "data": {
            "text/plain": [
              "True"
            ]
          },
          "metadata": {},
          "execution_count": 4
        }
      ]
    },
    {
      "cell_type": "code",
      "source": [
        "# Define horizontal and vertical gradient filters\n",
        "horizontal_filter = np.array([[-1, 0, 1],\n",
        "                              [-2, 0, 2],\n",
        "                              [-1, 0, 1]])\n",
        "\n",
        "vertical_filter = np.array([[-1, -2, -1],\n",
        "                            [0, 0, 0],\n",
        "                            [1, 2, 1]])\n",
        "\n",
        "# Define a function to apply gradient filters to an image\n",
        "def apply_gradient_filters(image, horizontal_filter, vertical_filter):\n",
        "    # Convolve the image with the horizontal and vertical filters\n",
        "    gradient_x = cv2.filter2D(image, -1, horizontal_filter)\n",
        "    gradient_y = cv2.filter2D(image, -1, vertical_filter)\n",
        "\n",
        "    # Compute the magnitude of the gradient\n",
        "    gradient_magnitude = np.sqrt(gradient_x**2 + gradient_y**2)\n",
        "\n",
        "    return gradient_magnitude\n",
        "\n",
        "# Load an example image\n",
        "image = cv2.imread('Peppers.png', cv2.IMREAD_GRAYSCALE)\n",
        "\n",
        "# Apply horizontal and vertical gradient filters\n",
        "gradient_magnitude = apply_gradient_filters(image, horizontal_filter, vertical_filter)\n",
        "\n",
        "# Check if gradient_magnitude is not empty or invalid\n",
        "if gradient_magnitude is not None:\n",
        "    # Manually normalize the result to make it suitable for display\n",
        "    gradient_magnitude = (gradient_magnitude - np.min(gradient_magnitude)) / (np.max(gradient_magnitude) - np.min(gradient_magnitude) + 1e-6) * 255\n",
        "    gradient_magnitude = gradient_magnitude.astype(np.uint8)\n",
        "\n",
        "    # Save or display the filtered image\n",
        "    cv2.imwrite('edge_detection_result.png', gradient_magnitude)\n",
        "\n",
        "else:\n",
        "    print(\"Gradient magnitude is empty or invalid.\")\n"
      ],
      "metadata": {
        "id": "4HplEMi5Ul2P"
      },
      "execution_count": 5,
      "outputs": []
    },
    {
      "cell_type": "code",
      "source": [
        "\n",
        "# Load grayscale PNG image\n",
        "image = cv2.imread('Peppers.png', cv2.IMREAD_GRAYSCALE)\n",
        "\n",
        "# Define a 3x3 minimum filter kernel to select the minimum value from the neighborhood\n",
        "min_filter_kernel = np.array([[1, 1, 1],\n",
        "                              [1, 1, 1],\n",
        "                              [1, 1, 1]])\n",
        "\n",
        "# Define a 3x3 maximum filter kernel to select the maximum value from the neighborhood\n",
        "max_filter_kernel = np.array([[1, 1, 1],\n",
        "                              [1, 1, 1],\n",
        "                              [1, 1, 1]])\n",
        "\n",
        "# Apply a 3x3 minimum filter\n",
        "min_filtered_image = cv2.erode(image, min_filter_kernel)\n",
        "\n",
        "# Apply a 3x3 maximum filter\n",
        "max_filtered_image = cv2.dilate(image, max_filter_kernel)\n",
        "\n",
        "# Compute the result of the max-min filter\n",
        "max_min_filtered_image = max_filtered_image - min_filtered_image\n",
        "\n",
        "\n",
        "# Save the filtered images\n",
        "cv2.imwrite('min_filtered_image.png', min_filtered_image)\n",
        "cv2.imwrite('max_filtered_image.png', max_filtered_image)\n",
        "cv2.imwrite('max_min_filtered_image.png', max_min_filtered_image)\n"
      ],
      "metadata": {
        "colab": {
          "base_uri": "https://localhost:8080/"
        },
        "id": "207fUvPma34M",
        "outputId": "88441664-c0b9-4e99-9b25-452352f4232c"
      },
      "execution_count": 6,
      "outputs": [
        {
          "output_type": "execute_result",
          "data": {
            "text/plain": [
              "True"
            ]
          },
          "metadata": {},
          "execution_count": 6
        }
      ]
    }
  ]
}