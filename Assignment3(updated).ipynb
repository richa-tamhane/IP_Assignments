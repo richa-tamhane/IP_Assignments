{
  "nbformat": 4,
  "nbformat_minor": 0,
  "metadata": {
    "colab": {
      "provenance": []
    },
    "kernelspec": {
      "name": "python3",
      "display_name": "Python 3"
    },
    "language_info": {
      "name": "python"
    }
  },
  "cells": [
    {
      "cell_type": "code",
      "execution_count": 1,
      "metadata": {
        "colab": {
          "base_uri": "https://localhost:8080/",
          "height": 308
        },
        "id": "3Gqd1hcvDqn0",
        "outputId": "9b6012ab-2126-4bef-e2ca-1ac02bfd1164"
      },
      "outputs": [
        {
          "output_type": "display_data",
          "data": {
            "text/plain": [
              "<Figure size 1000x300 with 3 Axes>"
            ],
            "image/png": "[encoded data removed]"
          },
          "metadata": {}
        }
      ],
      "source": [
        "# a) Create an RGB Image\n",
        "import numpy as np\n",
        "import matplotlib.pyplot as plt\n",
        "import cv2\n",
        "\n",
        "# Define the dimensions of the image\n",
        "width, height = 200, 200\n",
        "\n",
        "# Create an empty black image with 3 channels (RGB)\n",
        "rgb_image = np.zeros((height, width, 3), dtype=np.uint8)\n",
        "\n",
        "# Set the color of a specific pixel\n",
        "rgb_image[100, 100] = (0, 0, 255)  # Red pixel\n",
        "\n",
        "# Save the image to a file\n",
        "cv2.imwrite('rgb_image.png', rgb_image)\n",
        "\n",
        "# Loading RGB image\n",
        "image_path = 'rgb_image.png'\n",
        "image = cv2.imread(image_path)\n",
        "\n",
        "# Split the image into its RGB channels\n",
        "b, g, r = cv2.split(image)\n",
        "\n",
        "# Create subplots to display the channels\n",
        "plt.figure(figsize=(10, 3))\n",
        "\n",
        "# Red channel\n",
        "plt.subplot(131)\n",
        "plt.imshow(cv2.merge([r, r, r]))\n",
        "plt.title('Red Channel')\n",
        "plt.axis('off')\n",
        "\n",
        "# Green channel\n",
        "plt.subplot(132)\n",
        "plt.imshow(cv2.merge([g, g, g]))\n",
        "plt.title('Green Channel')\n",
        "plt.axis('off')\n",
        "\n",
        "# Blue channel\n",
        "plt.subplot(133)\n",
        "plt.imshow(cv2.merge([b, b, b]))\n",
        "plt.title('Blue Channel')\n",
        "plt.axis('off')\n",
        "\n",
        "# Display the subplots\n",
        "plt.tight_layout()\n",
        "plt.show()\n",
        "\n"
      ]
    },
    {
      "cell_type": "code",
      "source": [
        "#b) Separating into 3 channels of HSL color space\n",
        "\n",
        "# Load RGB image\n",
        "image_path = 'rgb_image.png'\n",
        "rgb_image = cv2.imread(image_path)\n",
        "\n",
        "# Convert RGB image to HSL\n",
        "def rgb_to_hsl(rgb):\n",
        "    r, g, b = rgb / 255.0\n",
        "    c_max = max(r, g, b)\n",
        "    c_min = min(r, g, b)\n",
        "    delta = c_max - c_min\n",
        "\n",
        "    if delta == 0:\n",
        "        h = 0\n",
        "    elif c_max == r:\n",
        "        h = 60 * ((g - b) / delta) % 360\n",
        "    elif c_max == g:\n",
        "        h = 60 * ((b - r) / delta) + 120\n",
        "    else:\n",
        "        h = 60 * ((r - g) / delta) + 240\n",
        "\n",
        "    l = (c_max + c_min) / 2\n",
        "\n",
        "    if delta == 0:\n",
        "        s = 0\n",
        "    else:\n",
        "        s = delta / (1 - abs(2 * l - 1))\n",
        "\n",
        "    h = (h / 360) * 100\n",
        "    s = s * 100\n",
        "    l = l * 100\n",
        "\n",
        "    return h, s, l\n",
        "\n",
        "# Separate H, S, and L channels\n",
        "hsl_image = np.apply_along_axis(rgb_to_hsl, 2, rgb_image)\n",
        "\n",
        "# Extract the H, S, and L channels\n",
        "h_channel, s_channel, l_channel = cv2.split(hsl_image)\n",
        "\n",
        "# Create subplots to display the channels\n",
        "import matplotlib.pyplot as plt\n",
        "\n",
        "plt.figure(figsize=(15, 5))\n",
        "\n",
        "# Hue channel\n",
        "plt.subplot(131)\n",
        "plt.imshow(h_channel, cmap='hsv', vmin=0, vmax=100)\n",
        "plt.title('Hue Channel')\n",
        "plt.axis('off')\n",
        "\n",
        "# Saturation channel\n",
        "plt.subplot(132)\n",
        "plt.imshow(s_channel, cmap='gray', vmin=0, vmax=100)\n",
        "plt.title('Saturation Channel')\n",
        "plt.axis('off')\n",
        "\n",
        "# Lightness channel\n",
        "plt.subplot(133)\n",
        "plt.imshow(l_channel, cmap='gray', vmin=0, vmax=100)\n",
        "plt.title('Lightness Channel')\n",
        "plt.axis('off')\n",
        "\n",
        "# Display the subplots\n",
        "plt.tight_layout()\n",
        "plt.show()\n",
        "\n",
        "#Save the HSL images\n",
        "cv2.imwrite('h_channel.png', h_channel)\n",
        "cv2.imwrite('s_channel.png', s_channel)\n",
        "cv2.imwrite('l_channel.png', l_channel)\n"
      ],
      "metadata": {
        "colab": {
          "base_uri": "https://localhost:8080/",
          "height": 419
        },
        "id": "zcx1zpL3E55Z",
        "outputId": "c11a54c4-fea4-4855-f4ce-ccce19d011e0"
      },
      "execution_count": 2,
      "outputs": [
        {
          "output_type": "display_data",
          "data": {
            "text/plain": [
              "<Figure size 1500x500 with 3 Axes>"
            ],
            "image/png": "[encoded data removed]"
          },
          "metadata": {}
        },
        {
          "output_type": "execute_result",
          "data": {
            "text/plain": [
              "True"
            ]
          },
          "metadata": {},
          "execution_count": 2
        }
      ]
    },
    {
      "cell_type": "code",
      "source": [
        "#HSL to RGB\n",
        "\n",
        "# Load H, S, and L channels\n",
        "h_channel = cv2.imread('h_channel.png', cv2.IMREAD_GRAYSCALE).astype(np.float32)  # Load H channel\n",
        "s_channel = cv2.imread('s_channel.png', cv2.IMREAD_GRAYSCALE).astype(np.float32)  # Load S channel\n",
        "l_channel = cv2.imread('l_channel.png', cv2.IMREAD_GRAYSCALE).astype(np.float32)  # Load L channel\n",
        "\n",
        "# Convert H, S, and L channels back to the range [0, 1]\n",
        "h_channel /= 100.0\n",
        "s_channel /= 100.0\n",
        "l_channel /= 100.0\n",
        "\n",
        "# Reconstruct the RGB image\n",
        "def hsl_to_rgb(h, s, l):\n",
        "    if s == 0:\n",
        "        r, g, b = l, l, l\n",
        "    else:\n",
        "        if l < 0.5:\n",
        "            q = l * (1 + s)\n",
        "        else:\n",
        "            q = l + s - (l * s)\n",
        "\n",
        "        p = 2 * l - q\n",
        "\n",
        "        r = hue_to_rgb(p, q, h + 1/3)\n",
        "        g = hue_to_rgb(p, q, h)\n",
        "        b = hue_to_rgb(p, q, h - 1/3)\n",
        "\n",
        "    return (b * 255).astype(np.uint8), (g * 255).astype(np.uint8), (r * 255).astype(np.uint8)\n",
        "\n",
        "def hue_to_rgb(p, q, t):\n",
        "    if t < 0:\n",
        "        t += 1\n",
        "    if t > 1:\n",
        "        t -= 1\n",
        "    if t < 1/6:\n",
        "        return (p + (q - p) * 6 * t).astype(np.uint8)\n",
        "    if t < 1/2:\n",
        "        return (q * 255).astype(np.uint8)\n",
        "    if t < 2/3:\n",
        "        return (p + (q - p) * (2/3 - t) * 6).astype(np.uint8)\n",
        "    return (p * 255).astype(np.uint8)\n",
        "\n",
        "# Create an empty RGB image\n",
        "height, width = h_channel.shape\n",
        "rgb_image = np.zeros((height, width, 3), dtype=np.uint8)\n",
        "\n",
        "# Reconstruct RGB image from H, S, and L channels\n",
        "for y in range(height):\n",
        "    for x in range(width):\n",
        "        h = h_channel[y, x]\n",
        "        s = s_channel[y, x]\n",
        "        l = l_channel[y, x]\n",
        "        r, g, b = hsl_to_rgb(h, s, l)\n",
        "        rgb_image[y, x] = (b, g, r)\n",
        "\n",
        "# Save the RGB Image\n",
        "cv2.imwrite('reconstructed_rgb_image.png', rgb_image)\n",
        "\n",
        "\n"
      ],
      "metadata": {
        "colab": {
          "base_uri": "https://localhost:8080/"
        },
        "id": "NlG6IqtlIMBr",
        "outputId": "0e441588-6304-46dd-f803-faabed4bcdbf"
      },
      "execution_count": 3,
      "outputs": [
        {
          "output_type": "execute_result",
          "data": {
            "text/plain": [
              "True"
            ]
          },
          "metadata": {},
          "execution_count": 3
        }
      ]
    },
    {
      "cell_type": "code",
      "source": [
        "#Equalisation algorithm for Greyscale image\n",
        "\n",
        "import cv2\n",
        "import numpy as np\n",
        "\n",
        "# Load a grayscale image\n",
        "image_path = 'Hibiscus.png'\n",
        "gray_image = cv2.imread(image_path, cv2.IMREAD_GRAYSCALE)\n",
        "\n",
        "# Calculate the histogram of the grayscale image\n",
        "hist, bins = np.histogram(gray_image.flatten(), 256, [0, 256])\n",
        "\n",
        "# Calculate the cumulative distribution function (CDF)\n",
        "cdf = hist.cumsum()\n",
        "\n",
        "# Normalize the CDF to the range [0, 255]\n",
        "cdf_normalized = (cdf * 255 / cdf[-1]).astype(np.uint8)\n",
        "\n",
        "# Apply the equalization to the image using the CDF\n",
        "equalized_image = cdf_normalized[gray_image]\n",
        "\n",
        "\n",
        "# Save the equalized image\n",
        "cv2.imwrite('greyscale_equalized_image.png', equalized_image)\n",
        "\n"
      ],
      "metadata": {
        "id": "w_vWtjf1DvYF",
        "colab": {
          "base_uri": "https://localhost:8080/"
        },
        "outputId": "91ce4ed8-39fa-46a3-8ac9-296f5775218d"
      },
      "execution_count": 7,
      "outputs": [
        {
          "output_type": "execute_result",
          "data": {
            "text/plain": [
              "True"
            ]
          },
          "metadata": {},
          "execution_count": 7
        }
      ]
    },
    {
      "cell_type": "code",
      "source": [
        "#Equalised RGB image\n",
        "from PIL import Image\n",
        "\n",
        "def histogram_equalization(channel):\n",
        "    # Calculate the histogram of the image\n",
        "    histogram, _ = np.histogram(channel, bins=256, range=(0, 256))\n",
        "\n",
        "    # Calculate the cumulative distribution function (Computing the cumulative histogram)\n",
        "    cdf = histogram.cumsum()\n",
        "\n",
        "    # Perform histogram equalization\n",
        "    equalized_pixels = np.uint8(cdf / (width * height) * 255)\n",
        "\n",
        "    return Image.fromarray(equalized_pixels[channel])\n",
        "\n",
        "\n",
        "# Load RGB image\n",
        "image_path = 'Hibiscuscolor.png'\n",
        "rgb_image = cv2.imread(image_path)\n",
        "\n",
        "# Separate the image into R, G, and B channels\n",
        "b, g, r = cv2.split(rgb_image)\n",
        "\n",
        "# Apply histogram equalization to each channel\n",
        "equalized_r = histogram_equalization(r)\n",
        "equalized_g = histogram_equalization(g)\n",
        "equalized_b = histogram_equalization(b)\n",
        "\n",
        "# Merge the equalized channels to reconstruct the image\n",
        "equalized_rgb_image = Image.merge(\"RGB\", (equalized_b, equalized_g, equalized_r))\n",
        "\n",
        "# Save the equalized RGB image\n",
        "equalized_rgb_image.save('equalized_rgb_image.png')\n",
        "\n",
        "\n"
      ],
      "metadata": {
        "id": "mjB2SVS0k-XL"
      },
      "execution_count": 18,
      "outputs": []
    },
    {
      "cell_type": "code",
      "source": [
        "# Load RGB image\n",
        "image_path = 'Hibiscuscolor.png'\n",
        "rgb_image = cv2.imread(image_path)\n",
        "\n",
        "# Convert the RGB image to HSL color space\n",
        "hsl_image = cv2.cvtColor(rgb_image, cv2.COLOR_BGR2HLS)\n",
        "\n",
        "# Split the HSL image into H, S, and L channels\n",
        "h_channel, s_channel, l_channel = cv2.split(hsl_image)\n",
        "\n",
        "# Apply histogram equalization to the L channel\n",
        "equalized_l = cv2.equalizeHist(l_channel)\n",
        "\n",
        "# Merge the equalized L channel with the original H and S channels\n",
        "hsl_equalized_image = cv2.merge([h_channel, s_channel, equalized_l])\n",
        "\n",
        "# Convert the HSL equalized image back to RGB\n",
        "equalized_rgb_image = cv2.cvtColor(hsl_equalized_image, cv2.COLOR_HLS2BGR)\n",
        "\n",
        "# Save the equalized RGB image\n",
        "cv2.imwrite('equalized_hsl_image.png', equalized_rgb_image)\n",
        "\n"
      ],
      "metadata": {
        "colab": {
          "base_uri": "https://localhost:8080/"
        },
        "id": "JGC2qUP58LLK",
        "outputId": "17006c41-cf54-4459-fbf9-5cffa065f506"
      },
      "execution_count": 23,
      "outputs": [
        {
          "output_type": "execute_result",
          "data": {
            "text/plain": [
              "True"
            ]
          },
          "metadata": {},
          "execution_count": 23
        }
      ]
    }
  ]
}