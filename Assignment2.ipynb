{
  "nbformat": 4,
  "nbformat_minor": 0,
  "metadata": {
    "colab": {
      "provenance": []
    },
    "kernelspec": {
      "name": "python3",
      "display_name": "Python 3"
    },
    "language_info": {
      "name": "python"
    }
  },
  "cells": [
    {
      "cell_type": "code",
      "execution_count": 9,
      "metadata": {
        "id": "eqUjOOHHMIw1"
      },
      "outputs": [],
      "source": [
        "from PIL import Image, ImageDraw\n",
        "\n",
        "# Create a 256x256 pixel image\n",
        "image = Image.new('RGB', (256, 256))\n",
        "draw = ImageDraw.Draw(image)\n",
        "\n",
        "# Generate a gradient of colors from left to right\n",
        "for i in range(256):\n",
        "    color = (i, 0, 255 - i)  # RGB color with varying red and blue components\n",
        "    draw.line([(i, 0), (i, 255)], fill=color, width=1)\n",
        "\n",
        "# Save the image\n",
        "image.save(\"universal_color_table.png\")\n",
        "image.show()\n"
      ]
    },
    {
      "cell_type": "code",
      "source": [
        "from PIL import Image, ImageOps\n",
        "from IPython.display import display\n",
        "\n",
        "# Create a universal color table\n",
        "color_table = []\n",
        "for r in range(0, 256, 51):\n",
        "    for g in range(0, 256, 51):\n",
        "        for b in range(0, 256, 51):\n",
        "            color = (r, g, b)\n",
        "            color_table.extend(color)\n",
        "\n",
        "# Open and load the image you want to display\n",
        "image = Image.open(\"Lena.png\")  # Replace with the path to your image file\n",
        "\n",
        "# Convert the image to RGB mode (if not already)\n",
        "image = image.convert(\"RGB\")\n",
        "\n",
        "# Quantize the image to use the custom color table with error diffusion dithering\n",
        "#To get the output as similar to input\n",
        "quantized_image = ImageOps.posterize(image, 4)  # You can adjust the posterization level\n",
        "\n",
        "# Display the quantized image in the Jupyter notebook\n",
        "quantized_image.save(\"transform_universal.png\")\n"
      ],
      "metadata": {
        "id": "FHplYNebNmA8"
      },
      "execution_count": 10,
      "outputs": []
    },
    {
      "cell_type": "code",
      "source": [
        "from PIL import Image, ImageDraw\n",
        "import numpy as np\n",
        "from sklearn.cluster import KMeans\n",
        "from IPython.display import display\n",
        "\n",
        "# Load the input image\n",
        "input_image = Image.open(\"Lena.png\")  # Replace with the path to your image file\n",
        "\n",
        "# Convert the image to a NumPy array\n",
        "image_array = np.array(input_image)\n",
        "\n",
        "# Reshape the array to a list of RGB values\n",
        "pixels = image_array.reshape(-1, 3)\n",
        "\n",
        "# Determine the number of colors (K) you want in your adaptive color table\n",
        "num_colors = 64  # Increase the number of colors here\n",
        "\n",
        "# Fit K-Means clustering to the image data\n",
        "kmeans = KMeans(n_clusters=num_colors, random_state=0).fit(pixels)\n",
        "\n",
        "# Get the cluster centers as RGB values\n",
        "cluster_centers = kmeans.cluster_centers_.astype(int)\n",
        "\n",
        "# Create an image to display the adaptive color table\n",
        "color_table_image = Image.new(\"RGB\", (num_colors * 50, 50))  # Adjust width as needed\n",
        "draw = ImageDraw.Draw(color_table_image)\n",
        "\n",
        "# Draw color rectangles for each color in the adaptive color table\n",
        "color_width = color_table_image.width // num_colors\n",
        "for i, color in enumerate(cluster_centers):\n",
        "    left = i * color_width\n",
        "    right = (i + 1) * color_width\n",
        "    draw.rectangle([left, 0, right, color_table_image.height], fill=tuple(color))\n",
        "\n",
        "# Display the adaptive color table image in the Jupyter notebook\n",
        "display(color_table_image)\n",
        "\n",
        "# Save the adaptive color table image as a PNG file\n",
        "color_table_image.save(\"adaptive_color_table.png\")\n"
      ],
      "metadata": {
        "id": "Sq91OJhrj9uJ",
        "colab": {
          "base_uri": "https://localhost:8080/",
          "height": 89
        },
        "outputId": "499b6722-d1dc-4826-fc18-cc7742f67789"
      },
      "execution_count": 11,
      "outputs": [
        {
          "output_type": "stream",
          "name": "stderr",
          "text": [
            "/usr/local/lib/python3.10/dist-packages/sklearn/cluster/_kmeans.py:870: FutureWarning: The default value of `n_init` will change from 10 to 'auto' in 1.4. Set the value of `n_init` explicitly to suppress the warning\n",
            "  warnings.warn(\n"
          ]
        },
        {
          "output_type": "display_data",
          "data": {
            "text/plain": [
              "<PIL.Image.Image image mode=RGB size=3200x50>"
            ],
            "image/png": "[encoded data removed]"
          },
          "metadata": {}
        }
      ]
    },
    {
      "cell_type": "code",
      "source": [
        "from PIL import Image\n",
        "import numpy as np\n",
        "from sklearn.cluster import KMeans\n",
        "\n",
        "# Load the input image\n",
        "input_image = Image.open(\"Lena.png\")  # Replace with the path to your image file\n",
        "\n",
        "# Convert the image to a NumPy array\n",
        "image_array = np.array(input_image)\n",
        "\n",
        "# Reshape the array to a list of RGB values\n",
        "pixels = image_array.reshape(-1, 3)\n",
        "\n",
        "# Determine the number of colors (K) you want in your adaptive color table\n",
        "num_colors = 256  # You can adjust this number\n",
        "\n",
        "# Fit KMeans clustering to the image data\n",
        "kmeans = KMeans(n_clusters=num_colors, random_state=0).fit(pixels)\n",
        "\n",
        "# Get the cluster centers as RGB values\n",
        "cluster_centers = kmeans.cluster_centers_.astype(int)\n",
        "\n",
        "# Create the adaptive color table\n",
        "adaptive_color_table = cluster_centers.tolist()\n",
        "\n",
        "# Convert the adaptive color table to a bytes object\n",
        "color_table_bytes = bytes([val for color in adaptive_color_table for val in color])\n",
        "\n",
        "# Create a new image with the adaptive color table\n",
        "quantized_image = Image.new(\"P\", input_image.size)\n",
        "quantized_image.putpalette(color_table_bytes)\n",
        "quantized_image.paste(input_image)\n",
        "#Posterrize to make it look like original image\n",
        "quantized_image = ImageOps.posterize(image, 6)\n",
        "\n",
        "# Display the quantized image\n",
        "quantized_image.save(\"transform_adaptive.png\")\n"
      ],
      "metadata": {
        "colab": {
          "base_uri": "https://localhost:8080/"
        },
        "id": "hR2t6MDEivv7",
        "outputId": "f5d2f671-4b25-4cd4-efb1-364a73d7dbbc"
      },
      "execution_count": 12,
      "outputs": [
        {
          "output_type": "stream",
          "name": "stderr",
          "text": [
            "/usr/local/lib/python3.10/dist-packages/sklearn/cluster/_kmeans.py:870: FutureWarning: The default value of `n_init` will change from 10 to 'auto' in 1.4. Set the value of `n_init` explicitly to suppress the warning\n",
            "  warnings.warn(\n"
          ]
        }
      ]
    }
  ]
}